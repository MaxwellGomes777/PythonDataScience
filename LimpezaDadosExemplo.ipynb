{
 "cells": [
  {
   "cell_type": "markdown",
   "id": "86114838",
   "metadata": {},
   "source": [
    "# Limpeza e Tratativa de Dados"
   ]
  },
  {
   "cell_type": "markdown",
   "id": "11f1dc03",
   "metadata": {},
   "source": [
    "Esse trabalho tem como escopo a limpeza e tratativa dos dados do dataset Global YouTube Statistics que pode ser adquirido no link https://www.kaggle.com/datasets/nelgiriyewithana/global-youtube-statistics-2023."
   ]
  },
  {
   "cell_type": "markdown",
   "id": "710ed762",
   "metadata": {},
   "source": [
    "### Importação de bibliotecas"
   ]
  },
  {
   "cell_type": "code",
   "execution_count": null,
   "id": "fc69b735",
   "metadata": {},
   "outputs": [],
   "source": [
    "import pandas as pd\n",
    "import numpy as np\n",
    "import matplotlib.pyplot as plt\n",
    "import seaborn as sns\n",
    "import math\n",
    "import requests"
   ]
  },
  {
   "cell_type": "code",
   "execution_count": 8,
   "id": "e45dc85f",
   "metadata": {},
   "outputs": [],
   "source": [
    "# Criação de uma lista de valores ausentes para apoiar a identificação de valores ausentes.\n",
    "lista_labels_valores_ausentes = [\"n/a\", \"na\", \"undefined\",\"unknown\", \"NaN\"]"
   ]
  },
  {
   "cell_type": "code",
   "execution_count": 9,
   "id": "fc19f6b9",
   "metadata": {},
   "outputs": [
    {
     "name": "stdout",
     "output_type": "stream",
     "text": [
      "O Dataset tem as seguintes linhas e colunas:  (995, 28)\n"
     ]
    }
   ],
   "source": [
    "# Lendo arquivo CSV e inserindo em um DataFrame e identificando valores ausentes\n",
    "df = pd.read_csv('C:/Users/Maxwell/Downloads/Global YouTube Statistics.csv', na_values = lista_labels_valores_ausentes) \n",
    "print(\"O Dataset tem as seguintes linhas e colunas: \", df.shape)"
   ]
  },
  {
   "cell_type": "code",
   "execution_count": 10,
   "id": "0a004819",
   "metadata": {},
   "outputs": [],
   "source": [
    "#Eliminando valores duplicados\n",
    "df.drop_duplicates(inplace=True)"
   ]
  },
  {
   "cell_type": "code",
   "execution_count": 11,
   "id": "d94cc0ab",
   "metadata": {},
   "outputs": [
    {
     "name": "stdout",
     "output_type": "stream",
     "text": [
      "O dataset pousui 5.8 % de seus valores ausentes.\n"
     ]
    }
   ],
   "source": [
    "#Visualizando percentual de valores ausentes do Dataset\n",
    "totalCelulas = np.product(df.shape)\n",
    "contAusentes = df.isnull().sum()\n",
    "totalAusentes = contAusentes.sum()\n",
    "print(\"O dataset pousui\", round(((totalAusentes/totalCelulas) * 100), 2), \"% de seus valores ausentes.\")"
   ]
  },
  {
   "cell_type": "code",
   "execution_count": 12,
   "id": "b177d286",
   "metadata": {},
   "outputs": [
    {
     "data": {
      "text/html": [
       "<div>\n",
       "<style scoped>\n",
       "    .dataframe tbody tr th:only-of-type {\n",
       "        vertical-align: middle;\n",
       "    }\n",
       "\n",
       "    .dataframe tbody tr th {\n",
       "        vertical-align: top;\n",
       "    }\n",
       "\n",
       "    .dataframe thead th {\n",
       "        text-align: right;\n",
       "    }\n",
       "</style>\n",
       "<table border=\"1\" class=\"dataframe\">\n",
       "  <thead>\n",
       "    <tr style=\"text-align: right;\">\n",
       "      <th></th>\n",
       "      <th>rank</th>\n",
       "      <th>Youtuber</th>\n",
       "      <th>subscribers</th>\n",
       "      <th>video views</th>\n",
       "      <th>category</th>\n",
       "      <th>Title</th>\n",
       "      <th>uploads</th>\n",
       "      <th>Country</th>\n",
       "      <th>Abbreviation</th>\n",
       "      <th>channel_type</th>\n",
       "      <th>...</th>\n",
       "      <th>subscribers_for_last_30_days</th>\n",
       "      <th>created_year</th>\n",
       "      <th>created_month</th>\n",
       "      <th>created_date</th>\n",
       "      <th>Gross tertiary education enrollment (%)</th>\n",
       "      <th>Population</th>\n",
       "      <th>Unemployment rate</th>\n",
       "      <th>Urban_population</th>\n",
       "      <th>Latitude</th>\n",
       "      <th>Longitude</th>\n",
       "    </tr>\n",
       "  </thead>\n",
       "  <tbody>\n",
       "    <tr>\n",
       "      <th>0</th>\n",
       "      <td>1</td>\n",
       "      <td>T-Series</td>\n",
       "      <td>245000000</td>\n",
       "      <td>2.280000e+11</td>\n",
       "      <td>Music</td>\n",
       "      <td>T-Series</td>\n",
       "      <td>20082</td>\n",
       "      <td>India</td>\n",
       "      <td>IN</td>\n",
       "      <td>Music</td>\n",
       "      <td>...</td>\n",
       "      <td>2000000.0</td>\n",
       "      <td>2006.0</td>\n",
       "      <td>Mar</td>\n",
       "      <td>13.0</td>\n",
       "      <td>28.1</td>\n",
       "      <td>1.366418e+09</td>\n",
       "      <td>5.36</td>\n",
       "      <td>471031528.0</td>\n",
       "      <td>20.593684</td>\n",
       "      <td>78.962880</td>\n",
       "    </tr>\n",
       "    <tr>\n",
       "      <th>1</th>\n",
       "      <td>2</td>\n",
       "      <td>YouTube Movies</td>\n",
       "      <td>170000000</td>\n",
       "      <td>0.000000e+00</td>\n",
       "      <td>Film &amp; Animation</td>\n",
       "      <td>youtubemovies</td>\n",
       "      <td>1</td>\n",
       "      <td>United States</td>\n",
       "      <td>US</td>\n",
       "      <td>Games</td>\n",
       "      <td>...</td>\n",
       "      <td>NaN</td>\n",
       "      <td>2006.0</td>\n",
       "      <td>Mar</td>\n",
       "      <td>5.0</td>\n",
       "      <td>88.2</td>\n",
       "      <td>3.282395e+08</td>\n",
       "      <td>14.70</td>\n",
       "      <td>270663028.0</td>\n",
       "      <td>37.090240</td>\n",
       "      <td>-95.712891</td>\n",
       "    </tr>\n",
       "    <tr>\n",
       "      <th>2</th>\n",
       "      <td>3</td>\n",
       "      <td>MrBeast</td>\n",
       "      <td>166000000</td>\n",
       "      <td>2.836884e+10</td>\n",
       "      <td>Entertainment</td>\n",
       "      <td>MrBeast</td>\n",
       "      <td>741</td>\n",
       "      <td>United States</td>\n",
       "      <td>US</td>\n",
       "      <td>Entertainment</td>\n",
       "      <td>...</td>\n",
       "      <td>8000000.0</td>\n",
       "      <td>2012.0</td>\n",
       "      <td>Feb</td>\n",
       "      <td>20.0</td>\n",
       "      <td>88.2</td>\n",
       "      <td>3.282395e+08</td>\n",
       "      <td>14.70</td>\n",
       "      <td>270663028.0</td>\n",
       "      <td>37.090240</td>\n",
       "      <td>-95.712891</td>\n",
       "    </tr>\n",
       "    <tr>\n",
       "      <th>3</th>\n",
       "      <td>4</td>\n",
       "      <td>Cocomelon - Nursery Rhymes</td>\n",
       "      <td>162000000</td>\n",
       "      <td>1.640000e+11</td>\n",
       "      <td>Education</td>\n",
       "      <td>Cocomelon - Nursery Rhymes</td>\n",
       "      <td>966</td>\n",
       "      <td>United States</td>\n",
       "      <td>US</td>\n",
       "      <td>Education</td>\n",
       "      <td>...</td>\n",
       "      <td>1000000.0</td>\n",
       "      <td>2006.0</td>\n",
       "      <td>Sep</td>\n",
       "      <td>1.0</td>\n",
       "      <td>88.2</td>\n",
       "      <td>3.282395e+08</td>\n",
       "      <td>14.70</td>\n",
       "      <td>270663028.0</td>\n",
       "      <td>37.090240</td>\n",
       "      <td>-95.712891</td>\n",
       "    </tr>\n",
       "    <tr>\n",
       "      <th>4</th>\n",
       "      <td>5</td>\n",
       "      <td>SET India</td>\n",
       "      <td>159000000</td>\n",
       "      <td>1.480000e+11</td>\n",
       "      <td>Shows</td>\n",
       "      <td>SET India</td>\n",
       "      <td>116536</td>\n",
       "      <td>India</td>\n",
       "      <td>IN</td>\n",
       "      <td>Entertainment</td>\n",
       "      <td>...</td>\n",
       "      <td>1000000.0</td>\n",
       "      <td>2006.0</td>\n",
       "      <td>Sep</td>\n",
       "      <td>20.0</td>\n",
       "      <td>28.1</td>\n",
       "      <td>1.366418e+09</td>\n",
       "      <td>5.36</td>\n",
       "      <td>471031528.0</td>\n",
       "      <td>20.593684</td>\n",
       "      <td>78.962880</td>\n",
       "    </tr>\n",
       "  </tbody>\n",
       "</table>\n",
       "<p>5 rows × 28 columns</p>\n",
       "</div>"
      ],
      "text/plain": [
       "   rank                    Youtuber  subscribers   video views  \\\n",
       "0     1                    T-Series    245000000  2.280000e+11   \n",
       "1     2              YouTube Movies    170000000  0.000000e+00   \n",
       "2     3                     MrBeast    166000000  2.836884e+10   \n",
       "3     4  Cocomelon - Nursery Rhymes    162000000  1.640000e+11   \n",
       "4     5                   SET India    159000000  1.480000e+11   \n",
       "\n",
       "           category                       Title  uploads        Country  \\\n",
       "0             Music                    T-Series    20082          India   \n",
       "1  Film & Animation               youtubemovies        1  United States   \n",
       "2     Entertainment                     MrBeast      741  United States   \n",
       "3         Education  Cocomelon - Nursery Rhymes      966  United States   \n",
       "4             Shows                   SET India   116536          India   \n",
       "\n",
       "  Abbreviation   channel_type  ...  subscribers_for_last_30_days  \\\n",
       "0           IN          Music  ...                     2000000.0   \n",
       "1           US          Games  ...                           NaN   \n",
       "2           US  Entertainment  ...                     8000000.0   \n",
       "3           US      Education  ...                     1000000.0   \n",
       "4           IN  Entertainment  ...                     1000000.0   \n",
       "\n",
       "   created_year  created_month  created_date  \\\n",
       "0        2006.0            Mar          13.0   \n",
       "1        2006.0            Mar           5.0   \n",
       "2        2012.0            Feb          20.0   \n",
       "3        2006.0            Sep           1.0   \n",
       "4        2006.0            Sep          20.0   \n",
       "\n",
       "   Gross tertiary education enrollment (%)    Population  Unemployment rate  \\\n",
       "0                                     28.1  1.366418e+09               5.36   \n",
       "1                                     88.2  3.282395e+08              14.70   \n",
       "2                                     88.2  3.282395e+08              14.70   \n",
       "3                                     88.2  3.282395e+08              14.70   \n",
       "4                                     28.1  1.366418e+09               5.36   \n",
       "\n",
       "   Urban_population   Latitude  Longitude  \n",
       "0       471031528.0  20.593684  78.962880  \n",
       "1       270663028.0  37.090240 -95.712891  \n",
       "2       270663028.0  37.090240 -95.712891  \n",
       "3       270663028.0  37.090240 -95.712891  \n",
       "4       471031528.0  20.593684  78.962880  \n",
       "\n",
       "[5 rows x 28 columns]"
      ]
     },
     "execution_count": 12,
     "metadata": {},
     "output_type": "execute_result"
    }
   ],
   "source": [
    "# Visão rapida do Dataset\n",
    "df.head()"
   ]
  },
  {
   "cell_type": "markdown",
   "id": "c3d302b0",
   "metadata": {},
   "source": [
    "# Tratamento de valores ausentes"
   ]
  },
  {
   "cell_type": "markdown",
   "id": "29bc78e1",
   "metadata": {},
   "source": [
    "Antes de nos aprofundarmos na análise do conjunto de dados, é relevante examinar a porcentagem de valores ausentes. Embora o código pudesse ser simplificado com uma linha como a seguinte: print(round((df.isnull().mean()*100), 2)) ou print(round((df.isna().mean() * 100), 2)), optei por empregar uma função personalizada. Essa abordagem resulta em uma tabela mais organizada e de melhor visualização, tornando mais fácil identificar e compreender a presença de dados ausentes em nosso conjunto de dados."
   ]
  },
  {
   "cell_type": "code",
   "execution_count": 57,
   "id": "6c02472c",
   "metadata": {},
   "outputs": [],
   "source": [
    "# Função para calcular valores ausentes por coluna, com e sem porcentagem\n",
    "def func_calc_percent_val_ausent_coluna(df):\n",
    "    \n",
    "    valAusent = df.isnull().sum()\n",
    "    valAusent_percent = 100 * valAusent / len(df)\n",
    "    valAusent_dtype = df.dtypes\n",
    "    valAusent_table = pd.concat([valAusent, valAusent_percent, valAusent_dtype], axis=1)\n",
    "    valAusent_table_ren_columns = valAusent_table.rename(\n",
    "    columns = {0 : 'Val Ausentes', 1 : '% Val Ausentes', 2: 'Tipo'})\n",
    "    valAusent_table_ren_columns = valAusent_table_ren_columns[valAusent_table_ren_columns.iloc[:,0] != 0].sort_values('% Val Ausentes', ascending = False).round(2)\n",
    "\n",
    "    #Retorna o resultado\n",
    "    if valAusent_table_ren_columns.shape[0] == 0:\n",
    "        return\n",
    "    return valAusent_table_ren_columns"
   ]
  },
  {
   "cell_type": "code",
   "execution_count": 14,
   "id": "5f105bd0",
   "metadata": {},
   "outputs": [
    {
     "data": {
      "text/html": [
       "<div>\n",
       "<style scoped>\n",
       "    .dataframe tbody tr th:only-of-type {\n",
       "        vertical-align: middle;\n",
       "    }\n",
       "\n",
       "    .dataframe tbody tr th {\n",
       "        vertical-align: top;\n",
       "    }\n",
       "\n",
       "    .dataframe thead th {\n",
       "        text-align: right;\n",
       "    }\n",
       "</style>\n",
       "<table border=\"1\" class=\"dataframe\">\n",
       "  <thead>\n",
       "    <tr style=\"text-align: right;\">\n",
       "      <th></th>\n",
       "      <th>Val Ausentes</th>\n",
       "      <th>% Val Ausentes</th>\n",
       "      <th>Tipo</th>\n",
       "    </tr>\n",
       "  </thead>\n",
       "  <tbody>\n",
       "    <tr>\n",
       "      <th>subscribers_for_last_30_days</th>\n",
       "      <td>337</td>\n",
       "      <td>33.87</td>\n",
       "      <td>float64</td>\n",
       "    </tr>\n",
       "    <tr>\n",
       "      <th>Longitude</th>\n",
       "      <td>123</td>\n",
       "      <td>12.36</td>\n",
       "      <td>float64</td>\n",
       "    </tr>\n",
       "    <tr>\n",
       "      <th>Gross tertiary education enrollment (%)</th>\n",
       "      <td>123</td>\n",
       "      <td>12.36</td>\n",
       "      <td>float64</td>\n",
       "    </tr>\n",
       "    <tr>\n",
       "      <th>Latitude</th>\n",
       "      <td>123</td>\n",
       "      <td>12.36</td>\n",
       "      <td>float64</td>\n",
       "    </tr>\n",
       "    <tr>\n",
       "      <th>Urban_population</th>\n",
       "      <td>123</td>\n",
       "      <td>12.36</td>\n",
       "      <td>float64</td>\n",
       "    </tr>\n",
       "    <tr>\n",
       "      <th>Unemployment rate</th>\n",
       "      <td>123</td>\n",
       "      <td>12.36</td>\n",
       "      <td>float64</td>\n",
       "    </tr>\n",
       "    <tr>\n",
       "      <th>Population</th>\n",
       "      <td>123</td>\n",
       "      <td>12.36</td>\n",
       "      <td>float64</td>\n",
       "    </tr>\n",
       "    <tr>\n",
       "      <th>Abbreviation</th>\n",
       "      <td>122</td>\n",
       "      <td>12.26</td>\n",
       "      <td>object</td>\n",
       "    </tr>\n",
       "    <tr>\n",
       "      <th>Country</th>\n",
       "      <td>122</td>\n",
       "      <td>12.26</td>\n",
       "      <td>object</td>\n",
       "    </tr>\n",
       "    <tr>\n",
       "      <th>country_rank</th>\n",
       "      <td>116</td>\n",
       "      <td>11.66</td>\n",
       "      <td>float64</td>\n",
       "    </tr>\n",
       "    <tr>\n",
       "      <th>video_views_for_the_last_30_days</th>\n",
       "      <td>56</td>\n",
       "      <td>5.63</td>\n",
       "      <td>float64</td>\n",
       "    </tr>\n",
       "    <tr>\n",
       "      <th>category</th>\n",
       "      <td>46</td>\n",
       "      <td>4.62</td>\n",
       "      <td>object</td>\n",
       "    </tr>\n",
       "    <tr>\n",
       "      <th>channel_type_rank</th>\n",
       "      <td>33</td>\n",
       "      <td>3.32</td>\n",
       "      <td>float64</td>\n",
       "    </tr>\n",
       "    <tr>\n",
       "      <th>channel_type</th>\n",
       "      <td>30</td>\n",
       "      <td>3.02</td>\n",
       "      <td>object</td>\n",
       "    </tr>\n",
       "    <tr>\n",
       "      <th>created_date</th>\n",
       "      <td>5</td>\n",
       "      <td>0.50</td>\n",
       "      <td>float64</td>\n",
       "    </tr>\n",
       "    <tr>\n",
       "      <th>created_month</th>\n",
       "      <td>5</td>\n",
       "      <td>0.50</td>\n",
       "      <td>object</td>\n",
       "    </tr>\n",
       "    <tr>\n",
       "      <th>created_year</th>\n",
       "      <td>5</td>\n",
       "      <td>0.50</td>\n",
       "      <td>float64</td>\n",
       "    </tr>\n",
       "    <tr>\n",
       "      <th>video_views_rank</th>\n",
       "      <td>1</td>\n",
       "      <td>0.10</td>\n",
       "      <td>float64</td>\n",
       "    </tr>\n",
       "  </tbody>\n",
       "</table>\n",
       "</div>"
      ],
      "text/plain": [
       "                                         Val Ausentes  % Val Ausentes     Tipo\n",
       "subscribers_for_last_30_days                      337           33.87  float64\n",
       "Longitude                                         123           12.36  float64\n",
       "Gross tertiary education enrollment (%)           123           12.36  float64\n",
       "Latitude                                          123           12.36  float64\n",
       "Urban_population                                  123           12.36  float64\n",
       "Unemployment rate                                 123           12.36  float64\n",
       "Population                                        123           12.36  float64\n",
       "Abbreviation                                      122           12.26   object\n",
       "Country                                           122           12.26   object\n",
       "country_rank                                      116           11.66  float64\n",
       "video_views_for_the_last_30_days                   56            5.63  float64\n",
       "category                                           46            4.62   object\n",
       "channel_type_rank                                  33            3.32  float64\n",
       "channel_type                                       30            3.02   object\n",
       "created_date                                        5            0.50  float64\n",
       "created_month                                       5            0.50   object\n",
       "created_year                                        5            0.50  float64\n",
       "video_views_rank                                    1            0.10  float64"
      ]
     },
     "execution_count": 14,
     "metadata": {},
     "output_type": "execute_result"
    }
   ],
   "source": [
    "# Analisando Contagem de valores ausentes e valores ausentes em porcentagem - Do mais ausente para o menos ausente.\n",
    "df_valAusent = func_calc_percent_val_ausent_coluna(df)\n",
    "df_valAusent"
   ]
  },
  {
   "cell_type": "markdown",
   "id": "fe343c20",
   "metadata": {},
   "source": [
    "Como uma boa prática, devemos eliminar colunas com mais de 30% de valores ausentes."
   ]
  },
  {
   "cell_type": "markdown",
   "id": "821ca85e",
   "metadata": {},
   "source": [
    "### Remoção de coluna com mais de 30% de valores ausentes"
   ]
  },
  {
   "cell_type": "code",
   "execution_count": 15,
   "id": "afe349d0",
   "metadata": {},
   "outputs": [],
   "source": [
    "#Removendo coluna \"subscribers_for_last_30_days\"\n",
    "df.drop(\"subscribers_for_last_30_days\", axis=1, inplace=True)"
   ]
  },
  {
   "cell_type": "code",
   "execution_count": 16,
   "id": "8cf598c4",
   "metadata": {},
   "outputs": [
    {
     "data": {
      "text/html": [
       "<div>\n",
       "<style scoped>\n",
       "    .dataframe tbody tr th:only-of-type {\n",
       "        vertical-align: middle;\n",
       "    }\n",
       "\n",
       "    .dataframe tbody tr th {\n",
       "        vertical-align: top;\n",
       "    }\n",
       "\n",
       "    .dataframe thead th {\n",
       "        text-align: right;\n",
       "    }\n",
       "</style>\n",
       "<table border=\"1\" class=\"dataframe\">\n",
       "  <thead>\n",
       "    <tr style=\"text-align: right;\">\n",
       "      <th></th>\n",
       "      <th>Val Ausentes</th>\n",
       "      <th>% Val Ausentes</th>\n",
       "      <th>Tipo</th>\n",
       "    </tr>\n",
       "  </thead>\n",
       "  <tbody>\n",
       "    <tr>\n",
       "      <th>Longitude</th>\n",
       "      <td>123</td>\n",
       "      <td>12.36</td>\n",
       "      <td>float64</td>\n",
       "    </tr>\n",
       "    <tr>\n",
       "      <th>Gross tertiary education enrollment (%)</th>\n",
       "      <td>123</td>\n",
       "      <td>12.36</td>\n",
       "      <td>float64</td>\n",
       "    </tr>\n",
       "    <tr>\n",
       "      <th>Latitude</th>\n",
       "      <td>123</td>\n",
       "      <td>12.36</td>\n",
       "      <td>float64</td>\n",
       "    </tr>\n",
       "    <tr>\n",
       "      <th>Urban_population</th>\n",
       "      <td>123</td>\n",
       "      <td>12.36</td>\n",
       "      <td>float64</td>\n",
       "    </tr>\n",
       "    <tr>\n",
       "      <th>Unemployment rate</th>\n",
       "      <td>123</td>\n",
       "      <td>12.36</td>\n",
       "      <td>float64</td>\n",
       "    </tr>\n",
       "    <tr>\n",
       "      <th>Population</th>\n",
       "      <td>123</td>\n",
       "      <td>12.36</td>\n",
       "      <td>float64</td>\n",
       "    </tr>\n",
       "    <tr>\n",
       "      <th>Abbreviation</th>\n",
       "      <td>122</td>\n",
       "      <td>12.26</td>\n",
       "      <td>object</td>\n",
       "    </tr>\n",
       "    <tr>\n",
       "      <th>Country</th>\n",
       "      <td>122</td>\n",
       "      <td>12.26</td>\n",
       "      <td>object</td>\n",
       "    </tr>\n",
       "    <tr>\n",
       "      <th>country_rank</th>\n",
       "      <td>116</td>\n",
       "      <td>11.66</td>\n",
       "      <td>float64</td>\n",
       "    </tr>\n",
       "    <tr>\n",
       "      <th>video_views_for_the_last_30_days</th>\n",
       "      <td>56</td>\n",
       "      <td>5.63</td>\n",
       "      <td>float64</td>\n",
       "    </tr>\n",
       "    <tr>\n",
       "      <th>category</th>\n",
       "      <td>46</td>\n",
       "      <td>4.62</td>\n",
       "      <td>object</td>\n",
       "    </tr>\n",
       "    <tr>\n",
       "      <th>channel_type_rank</th>\n",
       "      <td>33</td>\n",
       "      <td>3.32</td>\n",
       "      <td>float64</td>\n",
       "    </tr>\n",
       "    <tr>\n",
       "      <th>channel_type</th>\n",
       "      <td>30</td>\n",
       "      <td>3.02</td>\n",
       "      <td>object</td>\n",
       "    </tr>\n",
       "    <tr>\n",
       "      <th>created_date</th>\n",
       "      <td>5</td>\n",
       "      <td>0.50</td>\n",
       "      <td>float64</td>\n",
       "    </tr>\n",
       "    <tr>\n",
       "      <th>created_month</th>\n",
       "      <td>5</td>\n",
       "      <td>0.50</td>\n",
       "      <td>object</td>\n",
       "    </tr>\n",
       "    <tr>\n",
       "      <th>created_year</th>\n",
       "      <td>5</td>\n",
       "      <td>0.50</td>\n",
       "      <td>float64</td>\n",
       "    </tr>\n",
       "    <tr>\n",
       "      <th>video_views_rank</th>\n",
       "      <td>1</td>\n",
       "      <td>0.10</td>\n",
       "      <td>float64</td>\n",
       "    </tr>\n",
       "  </tbody>\n",
       "</table>\n",
       "</div>"
      ],
      "text/plain": [
       "                                         Val Ausentes  % Val Ausentes     Tipo\n",
       "Longitude                                         123           12.36  float64\n",
       "Gross tertiary education enrollment (%)           123           12.36  float64\n",
       "Latitude                                          123           12.36  float64\n",
       "Urban_population                                  123           12.36  float64\n",
       "Unemployment rate                                 123           12.36  float64\n",
       "Population                                        123           12.36  float64\n",
       "Abbreviation                                      122           12.26   object\n",
       "Country                                           122           12.26   object\n",
       "country_rank                                      116           11.66  float64\n",
       "video_views_for_the_last_30_days                   56            5.63  float64\n",
       "category                                           46            4.62   object\n",
       "channel_type_rank                                  33            3.32  float64\n",
       "channel_type                                       30            3.02   object\n",
       "created_date                                        5            0.50  float64\n",
       "created_month                                       5            0.50   object\n",
       "created_year                                        5            0.50  float64\n",
       "video_views_rank                                    1            0.10  float64"
      ]
     },
     "execution_count": 16,
     "metadata": {},
     "output_type": "execute_result"
    }
   ],
   "source": [
    "#Visualização após removação da coluna \"subscribers_for_last_30_days\"\n",
    "df_valAusent = func_calc_percent_val_ausent_coluna(df)\n",
    "df_valAusent"
   ]
  },
  {
   "cell_type": "markdown",
   "id": "187ce76a",
   "metadata": {},
   "source": [
    "Optei por não substituir os valores faltantes nas colunas de Longitude e Latitude por valores centrais ou pelo valor anterior/posterior, a fim de evitar distorções indevidas. Isso se deve ao fato de que o objetivo principal da análise se concentra na análise por país. Portanto, para manter a integridade dos dados e garantir uma análise precisa, tomei a decisão de remover completamente os registros que possuem valores em branco nessas colunas.\n",
    "\n",
    "É importante notar que, se tivéssemos à disposição uma coluna que indicasse o país correspondente a cada conjunto de coordenadas, seria possível preencher automaticamente os valores de Latitude e Longitude com base no país de origem. No entanto, dado o conjunto de dados atual, a exclusão dos registros incompletos é a abordagem mais apropriada para garantir a validade da análise."
   ]
  },
  {
   "cell_type": "markdown",
   "id": "1aa78ebb",
   "metadata": {},
   "source": [
    "### Removendo linhas do dataset onde duas colunas tenham valores ausentes"
   ]
  },
  {
   "cell_type": "code",
   "execution_count": 17,
   "id": "3428ae54",
   "metadata": {},
   "outputs": [],
   "source": [
    "#Removendo linhas do dataset onde as colunas Longitude e Latitude tenham valores ausentes\n",
    "df.dropna(subset=[\"Longitude\", \"Latitude\"], inplace=True)"
   ]
  },
  {
   "cell_type": "code",
   "execution_count": 18,
   "id": "80b74234",
   "metadata": {},
   "outputs": [
    {
     "data": {
      "text/html": [
       "<div>\n",
       "<style scoped>\n",
       "    .dataframe tbody tr th:only-of-type {\n",
       "        vertical-align: middle;\n",
       "    }\n",
       "\n",
       "    .dataframe tbody tr th {\n",
       "        vertical-align: top;\n",
       "    }\n",
       "\n",
       "    .dataframe thead th {\n",
       "        text-align: right;\n",
       "    }\n",
       "</style>\n",
       "<table border=\"1\" class=\"dataframe\">\n",
       "  <thead>\n",
       "    <tr style=\"text-align: right;\">\n",
       "      <th></th>\n",
       "      <th>Val Ausentes</th>\n",
       "      <th>% Val Ausentes</th>\n",
       "      <th>Tipo</th>\n",
       "    </tr>\n",
       "  </thead>\n",
       "  <tbody>\n",
       "    <tr>\n",
       "      <th>category</th>\n",
       "      <td>39</td>\n",
       "      <td>4.47</td>\n",
       "      <td>object</td>\n",
       "    </tr>\n",
       "    <tr>\n",
       "      <th>video_views_for_the_last_30_days</th>\n",
       "      <td>22</td>\n",
       "      <td>2.52</td>\n",
       "      <td>float64</td>\n",
       "    </tr>\n",
       "    <tr>\n",
       "      <th>channel_type_rank</th>\n",
       "      <td>9</td>\n",
       "      <td>1.03</td>\n",
       "      <td>float64</td>\n",
       "    </tr>\n",
       "    <tr>\n",
       "      <th>channel_type</th>\n",
       "      <td>7</td>\n",
       "      <td>0.80</td>\n",
       "      <td>object</td>\n",
       "    </tr>\n",
       "    <tr>\n",
       "      <th>created_year</th>\n",
       "      <td>3</td>\n",
       "      <td>0.34</td>\n",
       "      <td>float64</td>\n",
       "    </tr>\n",
       "    <tr>\n",
       "      <th>created_month</th>\n",
       "      <td>3</td>\n",
       "      <td>0.34</td>\n",
       "      <td>object</td>\n",
       "    </tr>\n",
       "    <tr>\n",
       "      <th>created_date</th>\n",
       "      <td>3</td>\n",
       "      <td>0.34</td>\n",
       "      <td>float64</td>\n",
       "    </tr>\n",
       "    <tr>\n",
       "      <th>video_views_rank</th>\n",
       "      <td>1</td>\n",
       "      <td>0.11</td>\n",
       "      <td>float64</td>\n",
       "    </tr>\n",
       "    <tr>\n",
       "      <th>country_rank</th>\n",
       "      <td>1</td>\n",
       "      <td>0.11</td>\n",
       "      <td>float64</td>\n",
       "    </tr>\n",
       "  </tbody>\n",
       "</table>\n",
       "</div>"
      ],
      "text/plain": [
       "                                  Val Ausentes  % Val Ausentes     Tipo\n",
       "category                                    39            4.47   object\n",
       "video_views_for_the_last_30_days            22            2.52  float64\n",
       "channel_type_rank                            9            1.03  float64\n",
       "channel_type                                 7            0.80   object\n",
       "created_year                                 3            0.34  float64\n",
       "created_month                                3            0.34   object\n",
       "created_date                                 3            0.34  float64\n",
       "video_views_rank                             1            0.11  float64\n",
       "country_rank                                 1            0.11  float64"
      ]
     },
     "execution_count": 18,
     "metadata": {},
     "output_type": "execute_result"
    }
   ],
   "source": [
    "#Visualização após limpeza de linhas ausentes das colunas Longitude e Latitude\n",
    "df_valAusent = func_calc_percent_val_ausent_coluna(df)\n",
    "df_valAusent"
   ]
  },
  {
   "cell_type": "markdown",
   "id": "2ab588aa",
   "metadata": {},
   "source": [
    "Pode-se notar que a exclusão dos registros que continham valores ausentes nas colunas de latitude e longitude teve um efeito direto sobre várias outras colunas que também apresentavam valores ausentes."
   ]
  },
  {
   "cell_type": "code",
   "execution_count": 19,
   "id": "a626e8fb",
   "metadata": {},
   "outputs": [
    {
     "name": "stdout",
     "output_type": "stream",
     "text": [
      "O dataset pousui 0.37 % de seus valores ausentes.\n"
     ]
    }
   ],
   "source": [
    "#Visualizando percentual de valores ausentes do Dataset após tratamentos de exclusão\n",
    "totalCelulas = np.product(df.shape)\n",
    "contAusentes = df.isnull().sum()\n",
    "totalAusentes = contAusentes.sum()\n",
    "print(\"O dataset pousui\", round(((totalAusentes/totalCelulas) * 100), 2), \"% de seus valores ausentes.\")"
   ]
  },
  {
   "cell_type": "markdown",
   "id": "a8d2e513",
   "metadata": {},
   "source": [
    "### Tratando variável categórica nula"
   ]
  },
  {
   "cell_type": "markdown",
   "id": "020d9a1f",
   "metadata": {},
   "source": [
    "#### Preenchendo com valor padrão"
   ]
  },
  {
   "cell_type": "markdown",
   "id": "931308f6",
   "metadata": {},
   "source": [
    "Poderia ter sido uma alternativa utilizar preenchimento repetindo o mesmo registro não nulo subsequente ou anterior, porém, em linha com as melhores práticas, optei por adotar a estratégia de preenchimento com a palavra 'desconhecido'. Dado que o conjunto de dados está em inglês, a palavra 'unknown' foi escolhida para essa finalidade."
   ]
  },
  {
   "cell_type": "code",
   "execution_count": 20,
   "id": "2aadc6fc",
   "metadata": {},
   "outputs": [
    {
     "name": "stdout",
     "output_type": "stream",
     "text": [
      "Entertainment            213\n",
      "Music                    181\n",
      "People & Blogs           104\n",
      "Gaming                    81\n",
      "Comedy                    67\n",
      "Education                 42\n",
      "Film & Animation          36\n",
      "Howto & Style             33\n",
      "News & Politics           26\n",
      "Science & Technology      15\n",
      "Shows                     12\n",
      "Sports                    11\n",
      "Pets & Animals             3\n",
      "Trailers                   2\n",
      "Autos & Vehicles           2\n",
      "Nonprofits & Activism      2\n",
      "Movies                     2\n",
      "Travel & Events            1\n",
      "Name: category, dtype: int64\n"
     ]
    }
   ],
   "source": [
    "#Visualizar valores únicos da coluna category\n",
    "print(df[\"category\"].value_counts())"
   ]
  },
  {
   "cell_type": "code",
   "execution_count": 21,
   "id": "db216265",
   "metadata": {},
   "outputs": [],
   "source": [
    "#Substituindo valores ausentes pela palavra Unknown\n",
    "df[\"category\"].fillna(\"Unknown\", inplace=True)\n"
   ]
  },
  {
   "cell_type": "code",
   "execution_count": 22,
   "id": "a4166990",
   "metadata": {},
   "outputs": [
    {
     "name": "stdout",
     "output_type": "stream",
     "text": [
      "Entertainment            213\n",
      "Music                    181\n",
      "People & Blogs           104\n",
      "Gaming                    81\n",
      "Comedy                    67\n",
      "Education                 42\n",
      "Unknown                   39\n",
      "Film & Animation          36\n",
      "Howto & Style             33\n",
      "News & Politics           26\n",
      "Science & Technology      15\n",
      "Shows                     12\n",
      "Sports                    11\n",
      "Pets & Animals             3\n",
      "Trailers                   2\n",
      "Autos & Vehicles           2\n",
      "Nonprofits & Activism      2\n",
      "Movies                     2\n",
      "Travel & Events            1\n",
      "Name: category, dtype: int64\n"
     ]
    }
   ],
   "source": [
    "#Visualizar valores únicos da coluna category para entender como ficou a variavel\n",
    "print(df[\"category\"].value_counts())"
   ]
  },
  {
   "cell_type": "code",
   "execution_count": 23,
   "id": "39ef0e98",
   "metadata": {},
   "outputs": [
    {
     "data": {
      "text/html": [
       "<div>\n",
       "<style scoped>\n",
       "    .dataframe tbody tr th:only-of-type {\n",
       "        vertical-align: middle;\n",
       "    }\n",
       "\n",
       "    .dataframe tbody tr th {\n",
       "        vertical-align: top;\n",
       "    }\n",
       "\n",
       "    .dataframe thead th {\n",
       "        text-align: right;\n",
       "    }\n",
       "</style>\n",
       "<table border=\"1\" class=\"dataframe\">\n",
       "  <thead>\n",
       "    <tr style=\"text-align: right;\">\n",
       "      <th></th>\n",
       "      <th>Val Ausentes</th>\n",
       "      <th>% Val Ausentes</th>\n",
       "      <th>Tipo</th>\n",
       "    </tr>\n",
       "  </thead>\n",
       "  <tbody>\n",
       "    <tr>\n",
       "      <th>video_views_for_the_last_30_days</th>\n",
       "      <td>22</td>\n",
       "      <td>2.52</td>\n",
       "      <td>float64</td>\n",
       "    </tr>\n",
       "    <tr>\n",
       "      <th>channel_type_rank</th>\n",
       "      <td>9</td>\n",
       "      <td>1.03</td>\n",
       "      <td>float64</td>\n",
       "    </tr>\n",
       "    <tr>\n",
       "      <th>channel_type</th>\n",
       "      <td>7</td>\n",
       "      <td>0.80</td>\n",
       "      <td>object</td>\n",
       "    </tr>\n",
       "    <tr>\n",
       "      <th>created_year</th>\n",
       "      <td>3</td>\n",
       "      <td>0.34</td>\n",
       "      <td>float64</td>\n",
       "    </tr>\n",
       "    <tr>\n",
       "      <th>created_month</th>\n",
       "      <td>3</td>\n",
       "      <td>0.34</td>\n",
       "      <td>object</td>\n",
       "    </tr>\n",
       "    <tr>\n",
       "      <th>created_date</th>\n",
       "      <td>3</td>\n",
       "      <td>0.34</td>\n",
       "      <td>float64</td>\n",
       "    </tr>\n",
       "    <tr>\n",
       "      <th>video_views_rank</th>\n",
       "      <td>1</td>\n",
       "      <td>0.11</td>\n",
       "      <td>float64</td>\n",
       "    </tr>\n",
       "    <tr>\n",
       "      <th>country_rank</th>\n",
       "      <td>1</td>\n",
       "      <td>0.11</td>\n",
       "      <td>float64</td>\n",
       "    </tr>\n",
       "  </tbody>\n",
       "</table>\n",
       "</div>"
      ],
      "text/plain": [
       "                                  Val Ausentes  % Val Ausentes     Tipo\n",
       "video_views_for_the_last_30_days            22            2.52  float64\n",
       "channel_type_rank                            9            1.03  float64\n",
       "channel_type                                 7            0.80   object\n",
       "created_year                                 3            0.34  float64\n",
       "created_month                                3            0.34   object\n",
       "created_date                                 3            0.34  float64\n",
       "video_views_rank                             1            0.11  float64\n",
       "country_rank                                 1            0.11  float64"
      ]
     },
     "execution_count": 23,
     "metadata": {},
     "output_type": "execute_result"
    }
   ],
   "source": [
    "# Análise de como ficou o dataset\n",
    "df_valAusent = func_calc_percent_val_ausent_coluna(df)\n",
    "df_valAusent"
   ]
  },
  {
   "cell_type": "markdown",
   "id": "0cd8311a",
   "metadata": {},
   "source": [
    "#### Preenchendo com moda"
   ]
  },
  {
   "cell_type": "markdown",
   "id": "0d9ab98f",
   "metadata": {},
   "source": [
    "Para lidar com os poucos casos de valores nulos na coluna 'channel_type', onde havia apenas 7 registros faltantes, adotei uma abordagem simples e eficaz. Optei por preencher esses valores ausentes com a moda (valor mais frequente) correspondente a cada categoria de tipo de canal presente no conjunto de dados"
   ]
  },
  {
   "cell_type": "code",
   "execution_count": 24,
   "id": "c72a4fff",
   "metadata": {},
   "outputs": [],
   "source": [
    "# Agrupando o DataFrame por 'category' e calculando a moda de 'channel_type' para cada categoria\n",
    "moda_por_categoria = df.groupby('category')['channel_type'].apply(lambda x: x.mode()[0])"
   ]
  },
  {
   "cell_type": "code",
   "execution_count": 25,
   "id": "f22aad71",
   "metadata": {},
   "outputs": [],
   "source": [
    "# Usando a função 'transform' para preencher os valores nulos em 'channel_type' com a moda correspondente à categoria\n",
    "df['channel_type'].fillna(df['category'].map(moda_por_categoria), inplace=True)\n"
   ]
  },
  {
   "cell_type": "code",
   "execution_count": 26,
   "id": "78ae9167",
   "metadata": {},
   "outputs": [
    {
     "data": {
      "text/html": [
       "<div>\n",
       "<style scoped>\n",
       "    .dataframe tbody tr th:only-of-type {\n",
       "        vertical-align: middle;\n",
       "    }\n",
       "\n",
       "    .dataframe tbody tr th {\n",
       "        vertical-align: top;\n",
       "    }\n",
       "\n",
       "    .dataframe thead th {\n",
       "        text-align: right;\n",
       "    }\n",
       "</style>\n",
       "<table border=\"1\" class=\"dataframe\">\n",
       "  <thead>\n",
       "    <tr style=\"text-align: right;\">\n",
       "      <th></th>\n",
       "      <th>Val Ausentes</th>\n",
       "      <th>% Val Ausentes</th>\n",
       "      <th>Tipo</th>\n",
       "    </tr>\n",
       "  </thead>\n",
       "  <tbody>\n",
       "    <tr>\n",
       "      <th>video_views_for_the_last_30_days</th>\n",
       "      <td>22</td>\n",
       "      <td>2.52</td>\n",
       "      <td>float64</td>\n",
       "    </tr>\n",
       "    <tr>\n",
       "      <th>channel_type_rank</th>\n",
       "      <td>9</td>\n",
       "      <td>1.03</td>\n",
       "      <td>float64</td>\n",
       "    </tr>\n",
       "    <tr>\n",
       "      <th>created_year</th>\n",
       "      <td>3</td>\n",
       "      <td>0.34</td>\n",
       "      <td>float64</td>\n",
       "    </tr>\n",
       "    <tr>\n",
       "      <th>created_month</th>\n",
       "      <td>3</td>\n",
       "      <td>0.34</td>\n",
       "      <td>object</td>\n",
       "    </tr>\n",
       "    <tr>\n",
       "      <th>created_date</th>\n",
       "      <td>3</td>\n",
       "      <td>0.34</td>\n",
       "      <td>float64</td>\n",
       "    </tr>\n",
       "    <tr>\n",
       "      <th>video_views_rank</th>\n",
       "      <td>1</td>\n",
       "      <td>0.11</td>\n",
       "      <td>float64</td>\n",
       "    </tr>\n",
       "    <tr>\n",
       "      <th>country_rank</th>\n",
       "      <td>1</td>\n",
       "      <td>0.11</td>\n",
       "      <td>float64</td>\n",
       "    </tr>\n",
       "  </tbody>\n",
       "</table>\n",
       "</div>"
      ],
      "text/plain": [
       "                                  Val Ausentes  % Val Ausentes     Tipo\n",
       "video_views_for_the_last_30_days            22            2.52  float64\n",
       "channel_type_rank                            9            1.03  float64\n",
       "created_year                                 3            0.34  float64\n",
       "created_month                                3            0.34   object\n",
       "created_date                                 3            0.34  float64\n",
       "video_views_rank                             1            0.11  float64\n",
       "country_rank                                 1            0.11  float64"
      ]
     },
     "execution_count": 26,
     "metadata": {},
     "output_type": "execute_result"
    }
   ],
   "source": [
    "# Análise de como ficou o dataset\n",
    "df_valAusent = func_calc_percent_val_ausent_coluna(df)\n",
    "df_valAusent"
   ]
  },
  {
   "cell_type": "markdown",
   "id": "098fa926",
   "metadata": {},
   "source": [
    "### Análise de variáveis numéricas para imputação"
   ]
  },
  {
   "cell_type": "code",
   "execution_count": 27,
   "id": "575252ea",
   "metadata": {},
   "outputs": [
    {
     "data": {
      "text/plain": [
       "<function matplotlib.pyplot.show(close=None, block=None)>"
      ]
     },
     "execution_count": 27,
     "metadata": {},
     "output_type": "execute_result"
    },
    {
     "data": {
      "image/png": "[encoded data removed]",
      "text/plain": [
       "<Figure size 432x288 with 1 Axes>"
      ]
     },
     "metadata": {
      "needs_background": "light"
     },
     "output_type": "display_data"
    }
   ],
   "source": [
    "#Analise com gráficos: Histograma para analisar se há distribuição normal na variável video_views_for_the_last_30_days\n",
    "df.video_views_for_the_last_30_days.plot(kind = \"hist\")\n",
    "plt.title(\"Histograma da Variavel video_views_for_the_last_30_days\")\n",
    "plt.show\n",
    "\n",
    "#Resultado: Não há uma distribuição normal"
   ]
  },
  {
   "cell_type": "code",
   "execution_count": 28,
   "id": "c58e6f26",
   "metadata": {},
   "outputs": [
    {
     "name": "stderr",
     "output_type": "stream",
     "text": [
      "C:\\Users\\Maxwell\\anaconda3\\lib\\site-packages\\seaborn\\_decorators.py:36: FutureWarning: Pass the following variable as a keyword arg: x. From version 0.12, the only valid positional argument will be `data`, and passing other arguments without an explicit keyword will result in an error or misinterpretation.\n",
      "  warnings.warn(\n"
     ]
    },
    {
     "name": "stdout",
     "output_type": "stream",
     "text": [
      "Medidas Centrais da Variável video_views_for_the_last_30_days\n",
      "Média: 182304153.81764707\n",
      "Mediana: 70915000.0\n",
      "Moda: 0            1.0\n",
      "1            4.0\n",
      "2     26683000.0\n",
      "3     48947000.0\n",
      "4    151697000.0\n",
      "dtype: float64\n"
     ]
    },
    {
     "data": {
      "image/png": "[encoded data removed]",
      "text/plain": [
       "<Figure size 432x288 with 1 Axes>"
      ]
     },
     "metadata": {
      "needs_background": "light"
     },
     "output_type": "display_data"
    }
   ],
   "source": [
    "#Analise com gráficos: Boxplot para entender se há outliers na variável video_views_for_the_last_30_days\n",
    "# como está a distribuição e linha da média.\n",
    "sns.boxplot(df.video_views_for_the_last_30_days)\n",
    "plt.title(\"Boxplot da Variável video_views_for_the_last_30_days\")\n",
    "plt.show\n",
    "# Calculo das medidas centrais\n",
    "print(\"Medidas Centrais da Variável video_views_for_the_last_30_days\")\n",
    "print (\"Média: {}\".format(df.video_views_for_the_last_30_days.mean()))\n",
    "print (\"Mediana: {}\".format(df.video_views_for_the_last_30_days.median()))\n",
    "print (\"Moda: {}\".format(df.video_views_for_the_last_30_days.mode()))\n",
    "# Resultado: Há muitos outliers \n",
    "# O melhor caminho é a substituição dos valores ausentes pela Mediana que se mantém inalterada pelos outliers"
   ]
  },
  {
   "cell_type": "markdown",
   "id": "1cb814e1",
   "metadata": {},
   "source": [
    "#### Imputando dados com a Mediana"
   ]
  },
  {
   "cell_type": "code",
   "execution_count": 29,
   "id": "c211dd6c",
   "metadata": {},
   "outputs": [],
   "source": [
    "#Preencher valores ausentes pelo valor da Mediana\n",
    "df.video_views_for_the_last_30_days.fillna(70915000, inplace = True)"
   ]
  },
  {
   "cell_type": "code",
   "execution_count": 30,
   "id": "036552a3",
   "metadata": {},
   "outputs": [
    {
     "data": {
      "text/html": [
       "<div>\n",
       "<style scoped>\n",
       "    .dataframe tbody tr th:only-of-type {\n",
       "        vertical-align: middle;\n",
       "    }\n",
       "\n",
       "    .dataframe tbody tr th {\n",
       "        vertical-align: top;\n",
       "    }\n",
       "\n",
       "    .dataframe thead th {\n",
       "        text-align: right;\n",
       "    }\n",
       "</style>\n",
       "<table border=\"1\" class=\"dataframe\">\n",
       "  <thead>\n",
       "    <tr style=\"text-align: right;\">\n",
       "      <th></th>\n",
       "      <th>Val Ausentes</th>\n",
       "      <th>% Val Ausentes</th>\n",
       "      <th>Tipo</th>\n",
       "    </tr>\n",
       "  </thead>\n",
       "  <tbody>\n",
       "    <tr>\n",
       "      <th>channel_type_rank</th>\n",
       "      <td>9</td>\n",
       "      <td>1.03</td>\n",
       "      <td>float64</td>\n",
       "    </tr>\n",
       "    <tr>\n",
       "      <th>created_year</th>\n",
       "      <td>3</td>\n",
       "      <td>0.34</td>\n",
       "      <td>float64</td>\n",
       "    </tr>\n",
       "    <tr>\n",
       "      <th>created_month</th>\n",
       "      <td>3</td>\n",
       "      <td>0.34</td>\n",
       "      <td>object</td>\n",
       "    </tr>\n",
       "    <tr>\n",
       "      <th>created_date</th>\n",
       "      <td>3</td>\n",
       "      <td>0.34</td>\n",
       "      <td>float64</td>\n",
       "    </tr>\n",
       "    <tr>\n",
       "      <th>video_views_rank</th>\n",
       "      <td>1</td>\n",
       "      <td>0.11</td>\n",
       "      <td>float64</td>\n",
       "    </tr>\n",
       "    <tr>\n",
       "      <th>country_rank</th>\n",
       "      <td>1</td>\n",
       "      <td>0.11</td>\n",
       "      <td>float64</td>\n",
       "    </tr>\n",
       "  </tbody>\n",
       "</table>\n",
       "</div>"
      ],
      "text/plain": [
       "                   Val Ausentes  % Val Ausentes     Tipo\n",
       "channel_type_rank             9            1.03  float64\n",
       "created_year                  3            0.34  float64\n",
       "created_month                 3            0.34   object\n",
       "created_date                  3            0.34  float64\n",
       "video_views_rank              1            0.11  float64\n",
       "country_rank                  1            0.11  float64"
      ]
     },
     "execution_count": 30,
     "metadata": {},
     "output_type": "execute_result"
    }
   ],
   "source": [
    "df_valAusent = func_calc_percent_val_ausent_coluna(df)\n",
    "df_valAusent"
   ]
  },
  {
   "cell_type": "markdown",
   "id": "82e13139",
   "metadata": {},
   "source": [
    "Analisando a variavel channel_type_rank"
   ]
  },
  {
   "cell_type": "markdown",
   "id": "fbb28116",
   "metadata": {},
   "source": [
    "### Imputação com base em informações relacionadas - rank"
   ]
  },
  {
   "cell_type": "markdown",
   "id": "d1736803",
   "metadata": {},
   "source": [
    "Ao examinar a distribuição dos dados, ficou evidente que o número de outliers é significativamente alto. Portanto, a utilização da mediana ou moda como medida central pode não ser a escolha mais apropriada, embora ainda sejam opções válidas.\n",
    "\n",
    "Porém, uma análise mais aprofundada do contexto de negócios revelou que a variável 'channel_type_rank' é estruturada como um ranking, levando em consideração a quantidade de inscritos ('subscribers') por 'channel_type'. Essa consideração específica pode influenciar a decisão sobre como tratar os valores ausentes ou extremos nesse contexto.\n",
    "\n",
    "Dito isto, optei por preencher a coluna 'channel_type_rank' de acordo com a ordem de inscritos dentro de cada categoria de 'channel_type'."
   ]
  },
  {
   "cell_type": "code",
   "execution_count": 31,
   "id": "6bd01248",
   "metadata": {},
   "outputs": [],
   "source": [
    "# Ordenar o DataFrame por 'channel_type' e 'subscribers' em ordem decrescente\n",
    "df = df.sort_values(by=['channel_type', 'subscribers'], ascending=[True, False])"
   ]
  },
  {
   "cell_type": "code",
   "execution_count": 32,
   "id": "c5a10299",
   "metadata": {},
   "outputs": [],
   "source": [
    "# Reiniciar o índice do DataFrame para facilitar a atribuição dos valores de ranking\n",
    "df = df.reset_index(drop=True)"
   ]
  },
  {
   "cell_type": "code",
   "execution_count": 33,
   "id": "3728fa18",
   "metadata": {},
   "outputs": [],
   "source": [
    "# Criei um dicionário para mapear o ranking com base nas categorias de 'channel_type'\n",
    "rank_dict = {}\n",
    "current_channel_type = None\n",
    "rank = 1\n",
    "\n",
    "for index, row in df.iterrows():\n",
    "    if row['channel_type'] != current_channel_type:\n",
    "        current_channel_type = row['channel_type']\n",
    "        rank = 1\n",
    "    df.at[index, 'channel_type_rank'] = rank\n",
    "    rank += 1\n",
    "\n",
    "# Agora, a coluna 'channel_type_rank' deve estar preenchida de acordo com a ordem de inscritos dentro de cada categoria de 'channel_type'"
   ]
  },
  {
   "cell_type": "code",
   "execution_count": 34,
   "id": "338dfa4c",
   "metadata": {},
   "outputs": [
    {
     "data": {
      "text/html": [
       "<div>\n",
       "<style scoped>\n",
       "    .dataframe tbody tr th:only-of-type {\n",
       "        vertical-align: middle;\n",
       "    }\n",
       "\n",
       "    .dataframe tbody tr th {\n",
       "        vertical-align: top;\n",
       "    }\n",
       "\n",
       "    .dataframe thead th {\n",
       "        text-align: right;\n",
       "    }\n",
       "</style>\n",
       "<table border=\"1\" class=\"dataframe\">\n",
       "  <thead>\n",
       "    <tr style=\"text-align: right;\">\n",
       "      <th></th>\n",
       "      <th>Val Ausentes</th>\n",
       "      <th>% Val Ausentes</th>\n",
       "      <th>Tipo</th>\n",
       "    </tr>\n",
       "  </thead>\n",
       "  <tbody>\n",
       "    <tr>\n",
       "      <th>created_year</th>\n",
       "      <td>3</td>\n",
       "      <td>0.34</td>\n",
       "      <td>float64</td>\n",
       "    </tr>\n",
       "    <tr>\n",
       "      <th>created_month</th>\n",
       "      <td>3</td>\n",
       "      <td>0.34</td>\n",
       "      <td>object</td>\n",
       "    </tr>\n",
       "    <tr>\n",
       "      <th>created_date</th>\n",
       "      <td>3</td>\n",
       "      <td>0.34</td>\n",
       "      <td>float64</td>\n",
       "    </tr>\n",
       "    <tr>\n",
       "      <th>video_views_rank</th>\n",
       "      <td>1</td>\n",
       "      <td>0.11</td>\n",
       "      <td>float64</td>\n",
       "    </tr>\n",
       "    <tr>\n",
       "      <th>country_rank</th>\n",
       "      <td>1</td>\n",
       "      <td>0.11</td>\n",
       "      <td>float64</td>\n",
       "    </tr>\n",
       "  </tbody>\n",
       "</table>\n",
       "</div>"
      ],
      "text/plain": [
       "                  Val Ausentes  % Val Ausentes     Tipo\n",
       "created_year                 3            0.34  float64\n",
       "created_month                3            0.34   object\n",
       "created_date                 3            0.34  float64\n",
       "video_views_rank             1            0.11  float64\n",
       "country_rank                 1            0.11  float64"
      ]
     },
     "execution_count": 34,
     "metadata": {},
     "output_type": "execute_result"
    }
   ],
   "source": [
    "# Analise do dataset após a operação.\n",
    "df_valAusent = func_calc_percent_val_ausent_coluna(df)\n",
    "df_valAusent"
   ]
  },
  {
   "cell_type": "markdown",
   "id": "b98a661a",
   "metadata": {},
   "source": [
    "Eu teria que fazer o mesmo com country rank, mas como posso fazer se não sei qual país o canal pertence?"
   ]
  },
  {
   "cell_type": "markdown",
   "id": "3046daa4",
   "metadata": {},
   "source": [
    "### Criando a coluna Country com base nas colunas Latitude e Longitude - Geolocalização Reversa"
   ]
  },
  {
   "cell_type": "code",
   "execution_count": 49,
   "id": "327f42d0",
   "metadata": {},
   "outputs": [],
   "source": [
    "# Função para obter o país com base em latitude e longitude\n",
    "def get_country(row):\n",
    "    latitude = row['Latitude']\n",
    "    longitude = row['Longitude']\n",
    "    \n",
    "    # URL de solicitação com um cabeçalho HTTP personalizado para definir a linguagem como inglês, para manter o padrão do df.\n",
    "    url = f\"https://nominatim.openstreetmap.org/reverse?format=json&lat={latitude}&lon={longitude}&accept-language=en\"\n",
    "    \n",
    "    # solicitação HTTP\n",
    "    response = requests.get(url)\n",
    "    # Operação de geolocalização reversa para encontrar os paises.\n",
    "    if response.status_code == 200:\n",
    "        data = response.json()\n",
    "        if 'address' in data and 'country' in data['address']:\n",
    "            return data['address']['country']\n",
    "    \n",
    "    return None  # Retorna None se o país não for encontrado"
   ]
  },
  {
   "cell_type": "code",
   "execution_count": 50,
   "id": "e2609b1c",
   "metadata": {},
   "outputs": [],
   "source": [
    "# Aplicando a função para criar a nova coluna 'country' \n",
    "df['country'] = df.apply(get_country, axis=1)\n",
    "#Obs: A geolocalização reversa é um processo demorado. "
   ]
  },
  {
   "cell_type": "code",
   "execution_count": 51,
   "id": "979e2218",
   "metadata": {},
   "outputs": [
    {
     "data": {
      "text/html": [
       "<div>\n",
       "<style scoped>\n",
       "    .dataframe tbody tr th:only-of-type {\n",
       "        vertical-align: middle;\n",
       "    }\n",
       "\n",
       "    .dataframe tbody tr th {\n",
       "        vertical-align: top;\n",
       "    }\n",
       "\n",
       "    .dataframe thead th {\n",
       "        text-align: right;\n",
       "    }\n",
       "</style>\n",
       "<table border=\"1\" class=\"dataframe\">\n",
       "  <thead>\n",
       "    <tr style=\"text-align: right;\">\n",
       "      <th></th>\n",
       "      <th>rank</th>\n",
       "      <th>Youtuber</th>\n",
       "      <th>subscribers</th>\n",
       "      <th>video views</th>\n",
       "      <th>category</th>\n",
       "      <th>Title</th>\n",
       "      <th>uploads</th>\n",
       "      <th>Country</th>\n",
       "      <th>Abbreviation</th>\n",
       "      <th>channel_type</th>\n",
       "      <th>...</th>\n",
       "      <th>created_month</th>\n",
       "      <th>created_day</th>\n",
       "      <th>Gross tertiary education enrollment (%)</th>\n",
       "      <th>Population</th>\n",
       "      <th>Unemployment rate</th>\n",
       "      <th>Urban_population</th>\n",
       "      <th>Latitude</th>\n",
       "      <th>Longitude</th>\n",
       "      <th>created_date</th>\n",
       "      <th>country</th>\n",
       "    </tr>\n",
       "  </thead>\n",
       "  <tbody>\n",
       "    <tr>\n",
       "      <th>0</th>\n",
       "      <td>229.0</td>\n",
       "      <td>That Little Puff</td>\n",
       "      <td>23700000</td>\n",
       "      <td>2.028969e+10</td>\n",
       "      <td>Pets &amp; Animals</td>\n",
       "      <td>That Little Puff</td>\n",
       "      <td>769</td>\n",
       "      <td>United States</td>\n",
       "      <td>US</td>\n",
       "      <td>Animals</td>\n",
       "      <td>...</td>\n",
       "      <td>1</td>\n",
       "      <td>29</td>\n",
       "      <td>88.2</td>\n",
       "      <td>328239523.0</td>\n",
       "      <td>14.70</td>\n",
       "      <td>270663028.0</td>\n",
       "      <td>37.090240</td>\n",
       "      <td>-95.712891</td>\n",
       "      <td>29/01/2020</td>\n",
       "      <td>United States</td>\n",
       "    </tr>\n",
       "    <tr>\n",
       "      <th>1</th>\n",
       "      <td>304.0</td>\n",
       "      <td>Brave Wilderness</td>\n",
       "      <td>20900000</td>\n",
       "      <td>4.927879e+09</td>\n",
       "      <td>Pets &amp; Animals</td>\n",
       "      <td>Brave Wilderness</td>\n",
       "      <td>982</td>\n",
       "      <td>United States</td>\n",
       "      <td>US</td>\n",
       "      <td>Animals</td>\n",
       "      <td>...</td>\n",
       "      <td>1</td>\n",
       "      <td>8</td>\n",
       "      <td>88.2</td>\n",
       "      <td>328239523.0</td>\n",
       "      <td>14.70</td>\n",
       "      <td>270663028.0</td>\n",
       "      <td>37.090240</td>\n",
       "      <td>-95.712891</td>\n",
       "      <td>08/01/2014</td>\n",
       "      <td>United States</td>\n",
       "    </tr>\n",
       "    <tr>\n",
       "      <th>2</th>\n",
       "      <td>689.0</td>\n",
       "      <td>ViralHog</td>\n",
       "      <td>14000000</td>\n",
       "      <td>1.891769e+10</td>\n",
       "      <td>People &amp; Blogs</td>\n",
       "      <td>ViralHog</td>\n",
       "      <td>41117</td>\n",
       "      <td>United States</td>\n",
       "      <td>US</td>\n",
       "      <td>Animals</td>\n",
       "      <td>...</td>\n",
       "      <td>1</td>\n",
       "      <td>22</td>\n",
       "      <td>88.2</td>\n",
       "      <td>328239523.0</td>\n",
       "      <td>14.70</td>\n",
       "      <td>270663028.0</td>\n",
       "      <td>37.090240</td>\n",
       "      <td>-95.712891</td>\n",
       "      <td>22/01/2014</td>\n",
       "      <td>United States</td>\n",
       "    </tr>\n",
       "    <tr>\n",
       "      <th>3</th>\n",
       "      <td>599.0</td>\n",
       "      <td>Bayashi TV</td>\n",
       "      <td>14900000</td>\n",
       "      <td>8.615619e+09</td>\n",
       "      <td>Entertainment</td>\n",
       "      <td>������������������BAYASHITV</td>\n",
       "      <td>93</td>\n",
       "      <td>Japan</td>\n",
       "      <td>JP</td>\n",
       "      <td>Autos</td>\n",
       "      <td>...</td>\n",
       "      <td>11</td>\n",
       "      <td>19</td>\n",
       "      <td>63.2</td>\n",
       "      <td>126226568.0</td>\n",
       "      <td>2.29</td>\n",
       "      <td>115782416.0</td>\n",
       "      <td>36.204824</td>\n",
       "      <td>138.252924</td>\n",
       "      <td>19/11/2012</td>\n",
       "      <td>Japan</td>\n",
       "    </tr>\n",
       "    <tr>\n",
       "      <th>4</th>\n",
       "      <td>681.0</td>\n",
       "      <td>Supercar Blondie</td>\n",
       "      <td>14100000</td>\n",
       "      <td>5.405563e+09</td>\n",
       "      <td>Autos &amp; Vehicles</td>\n",
       "      <td>Supercar Blondie</td>\n",
       "      <td>855</td>\n",
       "      <td>United Arab Emirates</td>\n",
       "      <td>AE</td>\n",
       "      <td>Autos</td>\n",
       "      <td>...</td>\n",
       "      <td>1</td>\n",
       "      <td>12</td>\n",
       "      <td>36.8</td>\n",
       "      <td>9770529.0</td>\n",
       "      <td>2.35</td>\n",
       "      <td>8479744.0</td>\n",
       "      <td>23.424076</td>\n",
       "      <td>53.847818</td>\n",
       "      <td>12/01/2007</td>\n",
       "      <td>United Arab Emirates</td>\n",
       "    </tr>\n",
       "  </tbody>\n",
       "</table>\n",
       "<p>5 rows × 28 columns</p>\n",
       "</div>"
      ],
      "text/plain": [
       "    rank          Youtuber  subscribers   video views          category  \\\n",
       "0  229.0  That Little Puff     23700000  2.028969e+10    Pets & Animals   \n",
       "1  304.0  Brave Wilderness     20900000  4.927879e+09    Pets & Animals   \n",
       "2  689.0          ViralHog     14000000  1.891769e+10    People & Blogs   \n",
       "3  599.0        Bayashi TV     14900000  8.615619e+09     Entertainment   \n",
       "4  681.0  Supercar Blondie     14100000  5.405563e+09  Autos & Vehicles   \n",
       "\n",
       "                         Title  uploads               Country Abbreviation  \\\n",
       "0             That Little Puff      769         United States           US   \n",
       "1             Brave Wilderness      982         United States           US   \n",
       "2                     ViralHog    41117         United States           US   \n",
       "3  ������������������BAYASHITV       93                 Japan           JP   \n",
       "4             Supercar Blondie      855  United Arab Emirates           AE   \n",
       "\n",
       "  channel_type  ...  created_month  created_day  \\\n",
       "0      Animals  ...              1           29   \n",
       "1      Animals  ...              1            8   \n",
       "2      Animals  ...              1           22   \n",
       "3        Autos  ...             11           19   \n",
       "4        Autos  ...              1           12   \n",
       "\n",
       "   Gross tertiary education enrollment (%)   Population  Unemployment rate  \\\n",
       "0                                     88.2  328239523.0              14.70   \n",
       "1                                     88.2  328239523.0              14.70   \n",
       "2                                     88.2  328239523.0              14.70   \n",
       "3                                     63.2  126226568.0               2.29   \n",
       "4                                     36.8    9770529.0               2.35   \n",
       "\n",
       "   Urban_population   Latitude   Longitude  created_date               country  \n",
       "0       270663028.0  37.090240  -95.712891    29/01/2020         United States  \n",
       "1       270663028.0  37.090240  -95.712891    08/01/2014         United States  \n",
       "2       270663028.0  37.090240  -95.712891    22/01/2014         United States  \n",
       "3       115782416.0  36.204824  138.252924    19/11/2012                 Japan  \n",
       "4         8479744.0  23.424076   53.847818    12/01/2007  United Arab Emirates  \n",
       "\n",
       "[5 rows x 28 columns]"
      ]
     },
     "execution_count": 51,
     "metadata": {},
     "output_type": "execute_result"
    }
   ],
   "source": [
    "# Visão rapida do Dataset\n",
    "df.head()"
   ]
  },
  {
   "cell_type": "markdown",
   "id": "2a19e59a",
   "metadata": {},
   "source": [
    "Fazendo o preenchimento por logica de ranking"
   ]
  },
  {
   "cell_type": "code",
   "execution_count": 52,
   "id": "936d9c9c",
   "metadata": {},
   "outputs": [],
   "source": [
    "# Ordenar o DataFrame por 'country' e 'subscribers' em ordem decrescente\n",
    "df = df.sort_values(by=['country', 'subscribers'], ascending=[True, False])"
   ]
  },
  {
   "cell_type": "code",
   "execution_count": 53,
   "id": "e0aefc73",
   "metadata": {},
   "outputs": [],
   "source": [
    "# Reiniciar o índice do DataFrame para facilitar a atribuição dos valores de ranking\n",
    "df = df.reset_index(drop=True)"
   ]
  },
  {
   "cell_type": "code",
   "execution_count": 54,
   "id": "d58bdc03",
   "metadata": {},
   "outputs": [],
   "source": [
    "# Imputando\n",
    "rank_dict2 = {}\n",
    "current_channel_type2 = None\n",
    "rank2 = 1\n",
    "\n",
    "for index, row in df.iterrows():\n",
    "    if row['country'] != current_channel_type2:\n",
    "        current_channel_type2 = row['country']\n",
    "        rank2 = 1\n",
    "    df.at[index, 'country_rank'] = rank2\n",
    "    rank2 += 1\n",
    "\n"
   ]
  },
  {
   "cell_type": "code",
   "execution_count": 55,
   "id": "19ddf425",
   "metadata": {},
   "outputs": [],
   "source": [
    "df_valAusent = func_calc_percent_val_ausent_coluna(df)\n",
    "df_valAusent"
   ]
  },
  {
   "cell_type": "code",
   "execution_count": 44,
   "id": "0656e87d",
   "metadata": {},
   "outputs": [],
   "source": [
    "#video_views_rank é uma variável que está com dados incoerentes e como é irrelevante para as análises futuras, será excluída.\n",
    "df.drop(\"video_views_rank\", axis=1, inplace=True)"
   ]
  },
  {
   "cell_type": "markdown",
   "id": "8852ec9c",
   "metadata": {},
   "source": [
    "### Usando preenchimento com forward fill (Preenchimento progressivo)"
   ]
  },
  {
   "cell_type": "markdown",
   "id": "75f828f6",
   "metadata": {},
   "source": [
    "Para lidar com os valores ausentes nas colunas de dia, mês e ano, optei por aplicar a técnica de 'forward fill' (preenchimento progressivo). Isso significa que os valores ausentes foram preenchidos com os valores imediatamente anteriores nas respectivas colunas. Essa abordagem ajuda a manter a continuidade e a coerência dos dados ao longo do tempo, garantindo que as informações de data sejam o mais precisas possível."
   ]
  },
  {
   "cell_type": "markdown",
   "id": "aa153f1a",
   "metadata": {},
   "source": [
    "#### Tratando tipos de dados - Convertendo mês categórico em numero."
   ]
  },
  {
   "cell_type": "code",
   "execution_count": 35,
   "id": "05f17bba",
   "metadata": {},
   "outputs": [],
   "source": [
    "# Convertendo mês categórico em mês numero\n",
    "meses = {'Jan': 1, 'Fev': 2, 'Mar': 3, 'Abr': 4, 'Mai': 5, 'Jun': 6, 'Jul': 7, 'Ago': 8, 'Set': 9, 'Out': 10, 'Nov': 11, 'Dez': 12}\n",
    "df['created_month'] = df['created_month'].map(meses)\n",
    "df['created_month'] = df['created_month'].fillna(1).astype(int)  # Preencha os valores nulos com 1, se necessário"
   ]
  },
  {
   "cell_type": "markdown",
   "id": "c83474c5",
   "metadata": {},
   "source": [
    "#### Preenchimento progressivo"
   ]
  },
  {
   "cell_type": "code",
   "execution_count": 37,
   "id": "32e6780d",
   "metadata": {},
   "outputs": [],
   "source": [
    "def preencher_nulos_com_anterior(df, coluna):\n",
    "    df[coluna] = df[coluna].fillna(method='ffill')\n",
    "    return df"
   ]
  },
  {
   "cell_type": "code",
   "execution_count": 38,
   "id": "b3d2ed05",
   "metadata": {},
   "outputs": [],
   "source": [
    "df = preencher_nulos_com_anterior(df,\"created_date\")\n",
    "df = preencher_nulos_com_anterior(df,\"created_year\")"
   ]
  },
  {
   "cell_type": "code",
   "execution_count": 39,
   "id": "d1c102c1",
   "metadata": {},
   "outputs": [],
   "source": [
    "# Convertendo tudo para INT\n",
    "df['created_date'] = df['created_date'].astype(int)\n",
    "df['created_month'] = df['created_month'].astype(int)\n",
    "df['created_year'] = df['created_year'].astype(int)"
   ]
  },
  {
   "cell_type": "markdown",
   "id": "38009196",
   "metadata": {},
   "source": [
    "## Criando coluna de data \"Dia/Mês/Ano\" com base nas colunas separadas."
   ]
  },
  {
   "cell_type": "code",
   "execution_count": 40,
   "id": "adad8898",
   "metadata": {},
   "outputs": [],
   "source": [
    "#função para concatenar e criar a coluna\n",
    "def criar_coluna_date(df):\n",
    "    df['date'] = pd.to_datetime(df['created_year'].astype(str) + '-' + df['created_month'].astype(str) + '-' + df['created_date'].astype(str), format='%Y-%m-%d')\n",
    "    df['date'] = df['date'].dt.strftime('%d/%m/%Y')\n",
    "    return df"
   ]
  },
  {
   "cell_type": "code",
   "execution_count": 41,
   "id": "242ca72e",
   "metadata": {},
   "outputs": [],
   "source": [
    "#criando a coluna\n",
    "df = criar_coluna_date(df)"
   ]
  },
  {
   "cell_type": "code",
   "execution_count": 47,
   "id": "4f7592a6",
   "metadata": {},
   "outputs": [],
   "source": [
    "#Renomeando created_date para created_day a fim de não gerar confusão.\n",
    "df = df.rename(columns={'created_date': 'created_day'})\n",
    "#Renomeando date para created_date\n",
    "df = df.rename(columns={'date': 'created_date'})"
   ]
  },
  {
   "cell_type": "markdown",
   "id": "254836d5",
   "metadata": {},
   "source": [
    "## Para finalizar, reorganizei o Rank"
   ]
  },
  {
   "cell_type": "markdown",
   "id": "9dd0b3b1",
   "metadata": {},
   "source": [
    "Após implementar várias modificações no conjunto de dados, tomei a decisão de reorganizar o ranking com base nas informações contidas no próprio dataset. Essa escolha foi guiada por considerações de negócios e pela necessidade de refletir com precisão as classificações e prioridades com base nos dados atualizados. "
   ]
  },
  {
   "cell_type": "code",
   "execution_count": 42,
   "id": "4c9de357",
   "metadata": {},
   "outputs": [],
   "source": [
    "# Use rank() para classificar os valores em 'subscribers' e atualizar 'rank' com as classificações\n",
    "df['rank'] = df['subscribers'].rank(ascending=False, method='min')\n"
   ]
  },
  {
   "cell_type": "code",
   "execution_count": 45,
   "id": "3e05ad71",
   "metadata": {},
   "outputs": [
    {
     "data": {
      "text/html": [
       "<div>\n",
       "<style scoped>\n",
       "    .dataframe tbody tr th:only-of-type {\n",
       "        vertical-align: middle;\n",
       "    }\n",
       "\n",
       "    .dataframe tbody tr th {\n",
       "        vertical-align: top;\n",
       "    }\n",
       "\n",
       "    .dataframe thead th {\n",
       "        text-align: right;\n",
       "    }\n",
       "</style>\n",
       "<table border=\"1\" class=\"dataframe\">\n",
       "  <thead>\n",
       "    <tr style=\"text-align: right;\">\n",
       "      <th></th>\n",
       "      <th>Val Ausentes</th>\n",
       "      <th>% Val Ausentes</th>\n",
       "      <th>Tipo</th>\n",
       "    </tr>\n",
       "  </thead>\n",
       "  <tbody>\n",
       "    <tr>\n",
       "      <th>country_rank</th>\n",
       "      <td>1</td>\n",
       "      <td>0.11</td>\n",
       "      <td>float64</td>\n",
       "    </tr>\n",
       "  </tbody>\n",
       "</table>\n",
       "</div>"
      ],
      "text/plain": [
       "              Val Ausentes  % Val Ausentes     Tipo\n",
       "country_rank             1            0.11  float64"
      ]
     },
     "execution_count": 45,
     "metadata": {},
     "output_type": "execute_result"
    }
   ],
   "source": [
    "df_valAusent = func_calc_percent_val_ausent_coluna(df)\n",
    "df_valAusent"
   ]
  },
  {
   "cell_type": "code",
   "execution_count": 48,
   "id": "8d6fae5a",
   "metadata": {},
   "outputs": [
    {
     "data": {
      "text/html": [
       "<div>\n",
       "<style scoped>\n",
       "    .dataframe tbody tr th:only-of-type {\n",
       "        vertical-align: middle;\n",
       "    }\n",
       "\n",
       "    .dataframe tbody tr th {\n",
       "        vertical-align: top;\n",
       "    }\n",
       "\n",
       "    .dataframe thead th {\n",
       "        text-align: right;\n",
       "    }\n",
       "</style>\n",
       "<table border=\"1\" class=\"dataframe\">\n",
       "  <thead>\n",
       "    <tr style=\"text-align: right;\">\n",
       "      <th></th>\n",
       "      <th>rank</th>\n",
       "      <th>Youtuber</th>\n",
       "      <th>subscribers</th>\n",
       "      <th>video views</th>\n",
       "      <th>category</th>\n",
       "      <th>Title</th>\n",
       "      <th>uploads</th>\n",
       "      <th>Country</th>\n",
       "      <th>Abbreviation</th>\n",
       "      <th>channel_type</th>\n",
       "      <th>...</th>\n",
       "      <th>created_year</th>\n",
       "      <th>created_month</th>\n",
       "      <th>created_day</th>\n",
       "      <th>Gross tertiary education enrollment (%)</th>\n",
       "      <th>Population</th>\n",
       "      <th>Unemployment rate</th>\n",
       "      <th>Urban_population</th>\n",
       "      <th>Latitude</th>\n",
       "      <th>Longitude</th>\n",
       "      <th>created_date</th>\n",
       "    </tr>\n",
       "  </thead>\n",
       "  <tbody>\n",
       "    <tr>\n",
       "      <th>0</th>\n",
       "      <td>229.0</td>\n",
       "      <td>That Little Puff</td>\n",
       "      <td>23700000</td>\n",
       "      <td>2.028969e+10</td>\n",
       "      <td>Pets &amp; Animals</td>\n",
       "      <td>That Little Puff</td>\n",
       "      <td>769</td>\n",
       "      <td>United States</td>\n",
       "      <td>US</td>\n",
       "      <td>Animals</td>\n",
       "      <td>...</td>\n",
       "      <td>2020</td>\n",
       "      <td>1</td>\n",
       "      <td>29</td>\n",
       "      <td>88.2</td>\n",
       "      <td>328239523.0</td>\n",
       "      <td>14.70</td>\n",
       "      <td>270663028.0</td>\n",
       "      <td>37.090240</td>\n",
       "      <td>-95.712891</td>\n",
       "      <td>29/01/2020</td>\n",
       "    </tr>\n",
       "    <tr>\n",
       "      <th>1</th>\n",
       "      <td>304.0</td>\n",
       "      <td>Brave Wilderness</td>\n",
       "      <td>20900000</td>\n",
       "      <td>4.927879e+09</td>\n",
       "      <td>Pets &amp; Animals</td>\n",
       "      <td>Brave Wilderness</td>\n",
       "      <td>982</td>\n",
       "      <td>United States</td>\n",
       "      <td>US</td>\n",
       "      <td>Animals</td>\n",
       "      <td>...</td>\n",
       "      <td>2014</td>\n",
       "      <td>1</td>\n",
       "      <td>8</td>\n",
       "      <td>88.2</td>\n",
       "      <td>328239523.0</td>\n",
       "      <td>14.70</td>\n",
       "      <td>270663028.0</td>\n",
       "      <td>37.090240</td>\n",
       "      <td>-95.712891</td>\n",
       "      <td>08/01/2014</td>\n",
       "    </tr>\n",
       "    <tr>\n",
       "      <th>2</th>\n",
       "      <td>689.0</td>\n",
       "      <td>ViralHog</td>\n",
       "      <td>14000000</td>\n",
       "      <td>1.891769e+10</td>\n",
       "      <td>People &amp; Blogs</td>\n",
       "      <td>ViralHog</td>\n",
       "      <td>41117</td>\n",
       "      <td>United States</td>\n",
       "      <td>US</td>\n",
       "      <td>Animals</td>\n",
       "      <td>...</td>\n",
       "      <td>2014</td>\n",
       "      <td>1</td>\n",
       "      <td>22</td>\n",
       "      <td>88.2</td>\n",
       "      <td>328239523.0</td>\n",
       "      <td>14.70</td>\n",
       "      <td>270663028.0</td>\n",
       "      <td>37.090240</td>\n",
       "      <td>-95.712891</td>\n",
       "      <td>22/01/2014</td>\n",
       "    </tr>\n",
       "    <tr>\n",
       "      <th>3</th>\n",
       "      <td>599.0</td>\n",
       "      <td>Bayashi TV</td>\n",
       "      <td>14900000</td>\n",
       "      <td>8.615619e+09</td>\n",
       "      <td>Entertainment</td>\n",
       "      <td>������������������BAYASHITV</td>\n",
       "      <td>93</td>\n",
       "      <td>Japan</td>\n",
       "      <td>JP</td>\n",
       "      <td>Autos</td>\n",
       "      <td>...</td>\n",
       "      <td>2012</td>\n",
       "      <td>11</td>\n",
       "      <td>19</td>\n",
       "      <td>63.2</td>\n",
       "      <td>126226568.0</td>\n",
       "      <td>2.29</td>\n",
       "      <td>115782416.0</td>\n",
       "      <td>36.204824</td>\n",
       "      <td>138.252924</td>\n",
       "      <td>19/11/2012</td>\n",
       "    </tr>\n",
       "    <tr>\n",
       "      <th>4</th>\n",
       "      <td>681.0</td>\n",
       "      <td>Supercar Blondie</td>\n",
       "      <td>14100000</td>\n",
       "      <td>5.405563e+09</td>\n",
       "      <td>Autos &amp; Vehicles</td>\n",
       "      <td>Supercar Blondie</td>\n",
       "      <td>855</td>\n",
       "      <td>United Arab Emirates</td>\n",
       "      <td>AE</td>\n",
       "      <td>Autos</td>\n",
       "      <td>...</td>\n",
       "      <td>2007</td>\n",
       "      <td>1</td>\n",
       "      <td>12</td>\n",
       "      <td>36.8</td>\n",
       "      <td>9770529.0</td>\n",
       "      <td>2.35</td>\n",
       "      <td>8479744.0</td>\n",
       "      <td>23.424076</td>\n",
       "      <td>53.847818</td>\n",
       "      <td>12/01/2007</td>\n",
       "    </tr>\n",
       "  </tbody>\n",
       "</table>\n",
       "<p>5 rows × 27 columns</p>\n",
       "</div>"
      ],
      "text/plain": [
       "    rank          Youtuber  subscribers   video views          category  \\\n",
       "0  229.0  That Little Puff     23700000  2.028969e+10    Pets & Animals   \n",
       "1  304.0  Brave Wilderness     20900000  4.927879e+09    Pets & Animals   \n",
       "2  689.0          ViralHog     14000000  1.891769e+10    People & Blogs   \n",
       "3  599.0        Bayashi TV     14900000  8.615619e+09     Entertainment   \n",
       "4  681.0  Supercar Blondie     14100000  5.405563e+09  Autos & Vehicles   \n",
       "\n",
       "                         Title  uploads               Country Abbreviation  \\\n",
       "0             That Little Puff      769         United States           US   \n",
       "1             Brave Wilderness      982         United States           US   \n",
       "2                     ViralHog    41117         United States           US   \n",
       "3  ������������������BAYASHITV       93                 Japan           JP   \n",
       "4             Supercar Blondie      855  United Arab Emirates           AE   \n",
       "\n",
       "  channel_type  ...  created_year  created_month  created_day  \\\n",
       "0      Animals  ...          2020              1           29   \n",
       "1      Animals  ...          2014              1            8   \n",
       "2      Animals  ...          2014              1           22   \n",
       "3        Autos  ...          2012             11           19   \n",
       "4        Autos  ...          2007              1           12   \n",
       "\n",
       "   Gross tertiary education enrollment (%)   Population  Unemployment rate  \\\n",
       "0                                     88.2  328239523.0              14.70   \n",
       "1                                     88.2  328239523.0              14.70   \n",
       "2                                     88.2  328239523.0              14.70   \n",
       "3                                     63.2  126226568.0               2.29   \n",
       "4                                     36.8    9770529.0               2.35   \n",
       "\n",
       "   Urban_population   Latitude   Longitude  created_date  \n",
       "0       270663028.0  37.090240  -95.712891    29/01/2020  \n",
       "1       270663028.0  37.090240  -95.712891    08/01/2014  \n",
       "2       270663028.0  37.090240  -95.712891    22/01/2014  \n",
       "3       115782416.0  36.204824  138.252924    19/11/2012  \n",
       "4         8479744.0  23.424076   53.847818    12/01/2007  \n",
       "\n",
       "[5 rows x 27 columns]"
      ]
     },
     "execution_count": 48,
     "metadata": {},
     "output_type": "execute_result"
    }
   ],
   "source": [
    "df.head()"
   ]
  },
  {
   "cell_type": "markdown",
   "id": "a7c5a145",
   "metadata": {},
   "source": [
    "# Salvando trabalho - Conclusão"
   ]
  },
  {
   "cell_type": "code",
   "execution_count": 56,
   "id": "c4dfbf5c",
   "metadata": {},
   "outputs": [],
   "source": [
    "df.to_csv('C:/Users/Maxwell/Downloads/Global YouTube Statistics_TRATADO.csv')"
   ]
  }
 ],
 "metadata": {
  "kernelspec": {
   "display_name": "Python 3",
   "language": "python",
   "name": "python3"
  },
  "language_info": {
   "codemirror_mode": {
    "name": "ipython",
    "version": 3
   },
   "file_extension": ".py",
   "mimetype": "text/x-python",
   "name": "python",
   "nbconvert_exporter": "python",
   "pygments_lexer": "ipython3",
   "version": "3.8.8"
  }
 },
 "nbformat": 4,
 "nbformat_minor": 5
}
